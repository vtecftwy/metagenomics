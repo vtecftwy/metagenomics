{
  "cells": [
    {
      "cell_type": "markdown",
      "metadata": {
        "id": "view-in-github",
        "colab_type": "text"
      },
      "source": [
        "<a href=\"https://colab.research.google.com/github/vtecftwy/metagenomics/blob/refactor_cnn_virus/2_01_test_cnn_virus_code_colab.ipynb\" target=\"_parent\"><img src=\"https://colab.research.google.com/assets/colab-badge.svg\" alt=\"Open In Colab\"/></a>"
      ]
    },
    {
      "cell_type": "markdown",
      "metadata": {
        "id": "0wBmc9__aZ3-"
      },
      "source": [
        "# Test CNN_Virus code and refactor"
      ]
    },
    {
      "cell_type": "markdown",
      "metadata": {
        "id": "a6aeu_XfaZ3_"
      },
      "source": [
        "Original code is [here](https://github.com/MaHaoran627/CNN_Virus)"
      ]
    },
    {
      "cell_type": "code",
      "execution_count": 1,
      "metadata": {
        "id": "qvhl4uR3aZ4A"
      },
      "outputs": [],
      "source": [
        "import numpy as np\n",
        "import os\n",
        "import sys\n",
        "from pathlib import Path\n",
        "\n",
        "%load_ext autoreload\n",
        "%autoreload 2"
      ]
    },
    {
      "cell_type": "code",
      "source": [
        "COLAB = True"
      ],
      "metadata": {
        "id": "nnWaf46nbXBl"
      },
      "execution_count": 2,
      "outputs": []
    },
    {
      "cell_type": "code",
      "source": [
        "if COLAB:\n",
        "    from google.colab import drive\n",
        "    drive.mount('/content/gdrive')"
      ],
      "metadata": {
        "colab": {
          "base_uri": "https://localhost:8080/"
        },
        "id": "HUOEZ3Qwajd3",
        "outputId": "59d1db63-c401-4b73-bee2-2a0ed313658f"
      },
      "execution_count": 3,
      "outputs": [
        {
          "output_type": "stream",
          "name": "stdout",
          "text": [
            "Mounted at /content/gdrive\n"
          ]
        }
      ]
    },
    {
      "cell_type": "code",
      "execution_count": 4,
      "metadata": {
        "colab": {
          "base_uri": "https://localhost:8080/"
        },
        "id": "FjGKzT4raZ4B",
        "outputId": "a087c74a-115c-42aa-eccf-20d6f882e979"
      },
      "outputs": [
        {
          "output_type": "stream",
          "name": "stdout",
          "text": [
            "Cloning into 'repo'...\n",
            "remote: Enumerating objects: 108, done.\u001b[K\n",
            "remote: Counting objects: 100% (108/108), done.\u001b[K\n",
            "remote: Compressing objects: 100% (62/62), done.\u001b[K\n",
            "remote: Total 108 (delta 51), reused 100 (delta 45), pack-reused 0\u001b[K\n",
            "Receiving objects: 100% (108/108), 11.98 MiB | 6.01 MiB/s, done.\n",
            "Resolving deltas: 100% (51/51), done.\n",
            "Added following path: /content/repo/src\n"
          ]
        }
      ],
      "source": [
        "if COLAB:\n",
        "    if not Path('repo').is_dir():\n",
        "        !git clone -b refactor_cnn_virus https://github.com/vtecftwy/metagenomics.git repo\n",
        "\n",
        "    cnn_src = Path('/content/repo/src')\n",
        "    assert cnn_src.is_dir()\n",
        "\n",
        "    data = Path('/content/gdrive/MyDrive/Metagen/CNN_Virus')\n",
        "    assert data.is_dir()\n",
        "\n",
        "    if cnn_src.is_dir():\n",
        "        sys.path.insert(1, str(cnn_src))\n",
        "        print(f\"Added following path: {cnn_src}\")\n",
        "    else:\n",
        "        print(f\"There is no directory {cnn_src}\")\n",
        "\n",
        "# else:\n",
        "\n",
        "#     cnn_repo = Path('../repos/cnn_virus/').resolve()\n",
        "#     assert cnn_repo.is_dir()\n",
        "\n",
        "#     data = Path('../data/cnn_virus').resolve()\n",
        "#     assert data.is_dir()\n",
        "\n",
        "#     p = Path('../src').resolve().absolute()\n",
        "#     if p.is_dir():\n",
        "#         sys.path.insert(1, str(p))\n",
        "#         print(f\"Added following path: {p}\")\n",
        "#     else:\n",
        "#         print(f\"There is no directory {p}\")\n"
      ]
    },
    {
      "cell_type": "markdown",
      "metadata": {
        "id": "_r_QZTykaZ4B"
      },
      "source": [
        "# Preprocessing data"
      ]
    },
    {
      "cell_type": "code",
      "execution_count": 5,
      "metadata": {
        "id": "EMYjlfmfaZ4C"
      },
      "outputs": [],
      "source": [
        "from preprocessing import get_learning_weights, get_params_50mer, get_kmer_from_50mer\n",
        "from preprocessing import DataGenerator_from_50mer\n",
        "\n",
        "from architecture import build_model"
      ]
    },
    {
      "cell_type": "code",
      "execution_count": 6,
      "metadata": {
        "id": "Oxr3VsgmaZ4C",
        "outputId": "54c15726-4f34-4149-e39a-d09e2b651fb1",
        "colab": {
          "base_uri": "https://localhost:8080/"
        }
      },
      "outputs": [
        {
          "output_type": "execute_result",
          "data": {
            "text/plain": [
              "(1000000, 1000000, 1000000)"
            ]
          },
          "metadata": {},
          "execution_count": 6
        }
      ],
      "source": [
        "p2training = data / '50mer_training'\n",
        "f_matrix, f_labels, f_pos = get_kmer_from_50mer(p2training, max_seqs=1_000_000)\n",
        "len(f_matrix), len(f_labels), len(f_pos)"
      ]
    },
    {
      "cell_type": "code",
      "execution_count": 7,
      "metadata": {
        "id": "7Yj1jCEpaZ4C",
        "outputId": "1ab789d3-3e16-4ebe-936a-6617095a6f51",
        "colab": {
          "base_uri": "https://localhost:8080/"
        }
      },
      "outputs": [
        {
          "output_type": "execute_result",
          "data": {
            "text/plain": [
              "('TCAAAATAATCAGAAATGTTGAACCTAGGGTTGGACACATAATGACCAGC', '76', '0')"
            ]
          },
          "metadata": {},
          "execution_count": 7
        }
      ],
      "source": [
        "i = 0\n",
        "f_matrix[i], f_labels[i], f_pos[i]"
      ]
    },
    {
      "cell_type": "code",
      "execution_count": 7,
      "metadata": {
        "id": "Q_bnNng5aZ4C"
      },
      "outputs": [],
      "source": []
    },
    {
      "cell_type": "code",
      "execution_count": 8,
      "metadata": {
        "id": "jlfjVYq5aZ4D"
      },
      "outputs": [],
      "source": [
        "#path for the training file\n",
        "filepath_train= data /\"50mer_training\"\n",
        "assert filepath_train.is_file()\n",
        "#path for the validating file\n",
        "filepath_val= data / \"50mer_validating\"\n",
        "assert filepath_val.is_file()\n",
        "#path for the learning weights file\n",
        "filepath_weights=data / \"weight_of_classes\"\n",
        "assert filepath_weights.is_file()"
      ]
    },
    {
      "cell_type": "code",
      "execution_count": 9,
      "metadata": {
        "id": "lV_2uA1paZ4D"
      },
      "outputs": [],
      "source": [
        "d_nucl={\"A\":0,\"C\":1,\"G\":2,\"T\":3,\"N\":4}\n",
        "f_matrix,f_labels,f_pos=get_kmer_from_50mer(filepath_train, max_seqs=1_000_000)\n",
        "f_matrix_val,f_labels_val,f_pos_val=get_kmer_from_50mer(filepath_val)\n",
        "\n",
        "params = get_params_50mer()\n",
        "d_weights=get_learning_weights(filepath_weights)\n",
        "\n",
        "training_generator = DataGenerator_from_50mer(f_matrix, f_labels, f_pos, **params)\n",
        "val_generator = DataGenerator_from_50mer(f_matrix_val, f_labels_val, f_pos_val, **params)"
      ]
    },
    {
      "cell_type": "code",
      "execution_count": 10,
      "metadata": {
        "id": "kWJ6hff_aZ4D",
        "outputId": "778a5275-c7c8-4762-e75f-8bd971d4bb22",
        "colab": {
          "base_uri": "https://localhost:8080/"
        }
      },
      "outputs": [
        {
          "output_type": "execute_result",
          "data": {
            "text/plain": [
              "977"
            ]
          },
          "metadata": {},
          "execution_count": 10
        }
      ],
      "source": [
        "len(training_generator)"
      ]
    },
    {
      "cell_type": "markdown",
      "metadata": {
        "id": "OmCvFk6aaZ4E"
      },
      "source": [
        "[`tf.keras.utils.Sequence`](https://www.tensorflow.org/api_docs/python/tf/keras/utils/Sequence)"
      ]
    },
    {
      "cell_type": "code",
      "execution_count": 11,
      "metadata": {
        "id": "xa9iZwjmaZ4E"
      },
      "outputs": [],
      "source": [
        "tg = training_generator.__getitem__(5)"
      ]
    },
    {
      "cell_type": "code",
      "execution_count": 12,
      "metadata": {
        "id": "sfkerEGNaZ4E",
        "outputId": "e1391a3b-c2e3-44ba-f7f5-d9eabdedba99",
        "colab": {
          "base_uri": "https://localhost:8080/"
        }
      },
      "outputs": [
        {
          "output_type": "execute_result",
          "data": {
            "text/plain": [
              "(2, tuple, numpy.ndarray, dict)"
            ]
          },
          "metadata": {},
          "execution_count": 12
        }
      ],
      "source": [
        "len(tg), type(tg), type(tg[0]), type(tg[1])"
      ]
    },
    {
      "cell_type": "code",
      "execution_count": 13,
      "metadata": {
        "id": "pXi0G7DHaZ4E",
        "outputId": "31850f0e-6f3b-4131-dc08-20b9eadb3fd1",
        "colab": {
          "base_uri": "https://localhost:8080/"
        }
      },
      "outputs": [
        {
          "output_type": "execute_result",
          "data": {
            "text/plain": [
              "dict_keys(['output1', 'output2'])"
            ]
          },
          "metadata": {},
          "execution_count": 13
        }
      ],
      "source": [
        "inp, out_d = tg\n",
        "out_d.keys()"
      ]
    },
    {
      "cell_type": "code",
      "execution_count": 14,
      "metadata": {
        "id": "fTjybSekaZ4E",
        "outputId": "d46f7d4b-4494-4169-9335-246d6c3dc442",
        "colab": {
          "base_uri": "https://localhost:8080/"
        }
      },
      "outputs": [
        {
          "output_type": "execute_result",
          "data": {
            "text/plain": [
              "((1024, 50, 5), (1024, 187), (1024, 10))"
            ]
          },
          "metadata": {},
          "execution_count": 14
        }
      ],
      "source": [
        "inp.shape, out_d['output1'].shape, out_d['output2'].shape"
      ]
    },
    {
      "cell_type": "code",
      "execution_count": 15,
      "metadata": {
        "id": "Idde3zKCaZ4F",
        "outputId": "305c264e-f6cf-4b16-f75a-f6e636a974de",
        "colab": {
          "base_uri": "https://localhost:8080/"
        }
      },
      "outputs": [
        {
          "output_type": "execute_result",
          "data": {
            "text/plain": [
              "array([[[0., 1., 0., 0., 0.],\n",
              "        [0., 0., 1., 0., 0.],\n",
              "        [0., 0., 0., 1., 0.],\n",
              "        [0., 1., 0., 0., 0.]],\n",
              "\n",
              "       [[1., 0., 0., 0., 0.],\n",
              "        [0., 0., 1., 0., 0.],\n",
              "        [0., 0., 1., 0., 0.],\n",
              "        [0., 0., 0., 1., 0.]]])"
            ]
          },
          "metadata": {},
          "execution_count": 15
        }
      ],
      "source": [
        "inp[:2, :4, :]"
      ]
    },
    {
      "cell_type": "code",
      "execution_count": 16,
      "metadata": {
        "id": "WG3YWSajaZ4F",
        "outputId": "972e6d16-ccf0-4cec-8d6a-d98dfe79749d",
        "colab": {
          "base_uri": "https://localhost:8080/"
        }
      },
      "outputs": [
        {
          "output_type": "execute_result",
          "data": {
            "text/plain": [
              "array([[0., 0., 0., 0., 0., 0., 0., 0., 0., 0.],\n",
              "       [0., 0., 0., 0., 0., 0., 0., 0., 0., 0.]], dtype=float32)"
            ]
          },
          "metadata": {},
          "execution_count": 16
        }
      ],
      "source": [
        "out1 = out_d['output1']\n",
        "out2 = out_d['output2']\n",
        "\n",
        "out1[:2, :10]"
      ]
    },
    {
      "cell_type": "code",
      "execution_count": 16,
      "metadata": {
        "id": "XGcWSpoxaZ4F"
      },
      "outputs": [],
      "source": []
    },
    {
      "cell_type": "code",
      "execution_count": 16,
      "metadata": {
        "id": "ME8DUdocaZ4G"
      },
      "outputs": [],
      "source": []
    },
    {
      "cell_type": "code",
      "execution_count": 16,
      "metadata": {
        "id": "cjIoK-OCaZ4G"
      },
      "outputs": [],
      "source": []
    },
    {
      "cell_type": "code",
      "execution_count": 16,
      "metadata": {
        "id": "jwlBYoooaZ4G"
      },
      "outputs": [],
      "source": []
    },
    {
      "cell_type": "markdown",
      "metadata": {
        "id": "7rY_7bAIaZ4G"
      },
      "source": [
        "# Build model and review it"
      ]
    },
    {
      "cell_type": "code",
      "execution_count": 17,
      "metadata": {
        "id": "pfBTHSP8aZ4G",
        "outputId": "336d9bd2-c78a-48a5-bc06-e4b00241ab25",
        "colab": {
          "base_uri": "https://localhost:8080/"
        }
      },
      "outputs": [
        {
          "output_type": "stream",
          "name": "stdout",
          "text": [
            "Creating Model\n",
            "Model: \"model\"\n",
            "__________________________________________________________________________________________________\n",
            " Layer (type)                   Output Shape         Param #     Connected to                     \n",
            "==================================================================================================\n",
            " input_1 (InputLayer)           [(None, 50, 5)]      0           []                               \n",
            "                                                                                                  \n",
            " conv1d (Conv1D)                (None, 50, 512)      13312       ['input_1[0][0]']                \n",
            "                                                                                                  \n",
            " batch_normalization (BatchNorm  (None, 50, 512)     2048        ['conv1d[0][0]']                 \n",
            " alization)                                                                                       \n",
            "                                                                                                  \n",
            " max_pooling1d (MaxPooling1D)   (None, 25, 512)      0           ['batch_normalization[0][0]']    \n",
            "                                                                                                  \n",
            " conv1d_1 (Conv1D)              (None, 25, 512)      1311232     ['max_pooling1d[0][0]']          \n",
            "                                                                                                  \n",
            " batch_normalization_1 (BatchNo  (None, 25, 512)     2048        ['conv1d_1[0][0]']               \n",
            " rmalization)                                                                                     \n",
            "                                                                                                  \n",
            " max_pooling1d_1 (MaxPooling1D)  (None, 13, 512)     0           ['batch_normalization_1[0][0]']  \n",
            "                                                                                                  \n",
            " conv1d_2 (Conv1D)              (None, 13, 1024)     3671040     ['max_pooling1d_1[0][0]']        \n",
            "                                                                                                  \n",
            " conv1d_3 (Conv1D)              (None, 13, 1024)     7341056     ['conv1d_2[0][0]']               \n",
            "                                                                                                  \n",
            " batch_normalization_2 (BatchNo  (None, 13, 1024)    4096        ['conv1d_3[0][0]']               \n",
            " rmalization)                                                                                     \n",
            "                                                                                                  \n",
            " max_pooling1d_2 (MaxPooling1D)  (None, 7, 1024)     0           ['batch_normalization_2[0][0]']  \n",
            "                                                                                                  \n",
            " flatten (Flatten)              (None, 7168)         0           ['max_pooling1d_2[0][0]']        \n",
            "                                                                                                  \n",
            " dense (Dense)                  (None, 1024)         7341056     ['flatten[0][0]']                \n",
            "                                                                                                  \n",
            " batch_normalization_3 (BatchNo  (None, 1024)        4096        ['dense[0][0]']                  \n",
            " rmalization)                                                                                     \n",
            "                                                                                                  \n",
            " dropout (Dropout)              (None, 1024)         0           ['batch_normalization_3[0][0]']  \n",
            "                                                                                                  \n",
            " output1 (Dense)                (None, 187)          191675      ['dropout[0][0]']                \n",
            "                                                                                                  \n",
            " concatenate (Concatenate)      (None, 1211)         0           ['dropout[0][0]',                \n",
            "                                                                  'output1[0][0]']                \n",
            "                                                                                                  \n",
            " dense_1 (Dense)                (None, 1024)         1241088     ['concatenate[0][0]']            \n",
            "                                                                                                  \n",
            " batch_normalization_4 (BatchNo  (None, 1024)        4096        ['dense_1[0][0]']                \n",
            " rmalization)                                                                                     \n",
            "                                                                                                  \n",
            " output2 (Dense)                (None, 10)           10250       ['batch_normalization_4[0][0]']  \n",
            "                                                                                                  \n",
            "==================================================================================================\n",
            "Total params: 21,137,093\n",
            "Trainable params: 21,128,901\n",
            "Non-trainable params: 8,192\n",
            "__________________________________________________________________________________________________\n"
          ]
        }
      ],
      "source": [
        "model=build_model()\n",
        "model.summary()"
      ]
    },
    {
      "cell_type": "code",
      "execution_count": 18,
      "metadata": {
        "id": "Yf3TqQxHaZ4G"
      },
      "outputs": [],
      "source": [
        "model.compile(\n",
        "\t  optimizer='adam',\n",
        "\t  loss={'output1':'categorical_crossentropy','output2':'categorical_crossentropy'},\n",
        "\t  metrics=['accuracy'])"
      ]
    },
    {
      "cell_type": "code",
      "execution_count": 19,
      "metadata": {
        "id": "hkzlpvDraZ4H",
        "colab": {
          "base_uri": "https://localhost:8080/"
        },
        "outputId": "db3f279a-22cf-4a1c-bb3b-71acb7b19d85"
      },
      "outputs": [
        {
          "output_type": "stream",
          "name": "stdout",
          "text": [
            "Epoch 1/2\n",
            "977/977 [==============================] - 442s 434ms/step - loss: 6.0758 - output1_loss: 3.7474 - output2_loss: 2.3284 - output1_accuracy: 0.1540 - output2_accuracy: 0.1237 - val_loss: 5.8436 - val_output1_loss: 3.5413 - val_output2_loss: 2.3023 - val_output1_accuracy: 0.1745 - val_output2_accuracy: 0.1357\n",
            "Epoch 2/2\n",
            "977/977 [==============================] - 426s 436ms/step - loss: 5.7177 - output1_loss: 3.4338 - output2_loss: 2.2839 - output1_accuracy: 0.1897 - output2_accuracy: 0.1478 - val_loss: 5.5499 - val_output1_loss: 3.3196 - val_output2_loss: 2.2304 - val_output1_accuracy: 0.2043 - val_output2_accuracy: 0.1696\n"
          ]
        }
      ],
      "source": [
        "from tensorflow.keras.callbacks import EarlyStopping\n",
        "\n",
        "es = EarlyStopping(monitor='val_loss', patience=5, restore_best_weights=True)\n",
        "\n",
        "result = model.fit(\n",
        "    training_generator,\n",
        "\tepochs=2,\n",
        "\tverbose=1,\n",
        "\t# class_weight=d_weights,\n",
        "\tvalidation_data=val_generator,\n",
        "\tcallbacks=[es]\n",
        "\t)\n"
      ]
    },
    {
      "cell_type": "code",
      "execution_count": 23,
      "metadata": {
        "id": "3Oqk6kWbaZ4H",
        "colab": {
          "base_uri": "https://localhost:8080/",
          "height": 283
        },
        "outputId": "5c768561-dbff-4757-bc7b-1d0159ab38fb"
      },
      "outputs": [
        {
          "output_type": "execute_result",
          "data": {
            "text/plain": [
              "<matplotlib.axes._subplots.AxesSubplot at 0x7ff9d0286c10>"
            ]
          },
          "metadata": {},
          "execution_count": 23
        },
        {
          "output_type": "display_data",
          "data": {
            "text/plain": [
              "<Figure size 432x288 with 1 Axes>"
            ],
            "image/png": "[encoded data removed]"
          },
          "metadata": {
            "needs_background": "light"
          }
        }
      ],
      "source": [
        "import pandas as pd\n",
        "pd.DataFrame(result.history['val_output1_accuracy']).plot()"
      ]
    },
    {
      "cell_type": "code",
      "execution_count": 24,
      "metadata": {
        "id": "0IDLJAkgaZ4H"
      },
      "outputs": [],
      "source": [
        "model.save(Path('saved_temp'))"
      ]
    },
    {
      "cell_type": "code",
      "source": [
        "from tensorflow.keras.models import load_model\n",
        "\n",
        "m = load_model(Path('saved_temp'))"
      ],
      "metadata": {
        "id": "HP0qufIDEYjf"
      },
      "execution_count": 27,
      "outputs": []
    },
    {
      "cell_type": "code",
      "source": [
        "m.evaluate(val_generator)"
      ],
      "metadata": {
        "colab": {
          "base_uri": "https://localhost:8080/"
        },
        "id": "Pf5GITHCEkd4",
        "outputId": "f784f13c-7fcc-4b54-b966-0022f87e677a"
      },
      "execution_count": 29,
      "outputs": [
        {
          "output_type": "stream",
          "name": "stdout",
          "text": [
            "977/977 [==============================] - 99s 101ms/step - loss: 5.5499 - output1_loss: 3.3196 - output2_loss: 2.2304 - output1_accuracy: 0.2043 - output2_accuracy: 0.1696\n"
          ]
        },
        {
          "output_type": "execute_result",
          "data": {
            "text/plain": [
              "[5.549919128417969,\n",
              " 3.319552421569824,\n",
              " 2.2303643226623535,\n",
              " 0.2043450027704239,\n",
              " 0.16956399381160736]"
            ]
          },
          "metadata": {},
          "execution_count": 29
        }
      ]
    }
  ],
  "metadata": {
    "kernelspec": {
      "display_name": "Python 3.9.12 ('metagen')",
      "language": "python",
      "name": "python3"
    },
    "language_info": {
      "codemirror_mode": {
        "name": "ipython",
        "version": 3
      },
      "file_extension": ".py",
      "mimetype": "text/x-python",
      "name": "python",
      "nbconvert_exporter": "python",
      "pygments_lexer": "ipython3",
      "version": "3.9.12"
    },
    "orig_nbformat": 4,
    "vscode": {
      "interpreter": {
        "hash": "dfd3b4934a6b4e35dd599b40cbe0afdec143404ac9fcb14c4b97cc2a93514568"
      }
    },
    "colab": {
      "name": "2.01_test_cnn_virus_code-colab.ipynb",
      "provenance": [],
      "collapsed_sections": [],
      "include_colab_link": true
    },
    "accelerator": "GPU",
    "gpuClass": "standard"
  },
  "nbformat": 4,
  "nbformat_minor": 0
}