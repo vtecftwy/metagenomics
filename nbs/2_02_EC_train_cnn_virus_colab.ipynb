{
  "cells": [
    {
      "cell_type": "markdown",
      "metadata": {
        "id": "view-in-github",
        "colab_type": "text"
      },
      "source": [
        "<a href=\"https://colab.research.google.com/github/vtecftwy/metagenomics/blob/refactor_cnn_virus/nbs/2_02_EC_train_cnn_virus_colab.ipynb\" target=\"_parent\"><img src=\"https://colab.research.google.com/assets/colab-badge.svg\" alt=\"Open In Colab\"/></a>"
      ]
    },
    {
      "cell_type": "markdown",
      "metadata": {
        "id": "0wBmc9__aZ3-"
      },
      "source": [
        "# Test CNN_Virus code and refactor"
      ]
    },
    {
      "cell_type": "markdown",
      "metadata": {
        "id": "a6aeu_XfaZ3_"
      },
      "source": [
        "Original code is [here](https://github.com/MaHaoran627/CNN_Virus)"
      ]
    },
    {
      "cell_type": "code",
      "execution_count": 1,
      "metadata": {
        "id": "qvhl4uR3aZ4A"
      },
      "outputs": [],
      "source": [
        "import numpy as np\n",
        "import os\n",
        "import sys\n",
        "from pathlib import Path\n",
        "\n",
        "%load_ext autoreload\n",
        "%autoreload 2"
      ]
    },
    {
      "cell_type": "code",
      "source": [
        "try:\n",
        "    from google.colab import drive\n",
        "    ON_COLAB = True\n",
        "    print('Running on colab')\n",
        "    p2repo = Path('repo')\n",
        "    if not p2repo.is_dir():\n",
        "        !git clone -b refactor_cnn_virus https://github.com/vtecftwy/metagenomics.git repo\n",
        "    \n",
        "    drive.mount('/content/gdrive')\n",
        "    p2drive = Path('/content/gdrive/MyDrive/Metagenonics/')\n",
        "    p2data =  p2drive / 'CNN_Virus_data'\n",
        "    p2src = p2repo / 'src'\n",
        "except:\n",
        "    ON_COLAB = False\n",
        "    print('Runnng locally')\n",
        "    pdata = Path('data/cnn_virus')\n",
        "    p2src = Path('src')\n",
        "\n",
        "if p2src.is_dir():\n",
        "    sys.path.insert(1, str(p2src))\n",
        "    print(f\"Added following path to system: {p2src}\")\n",
        "else:\n",
        "    print(f\"There is no directory {p2src}\")"
      ],
      "metadata": {
        "id": "nnWaf46nbXBl",
        "colab": {
          "base_uri": "https://localhost:8080/"
        },
        "outputId": "307d25ef-fdf9-4aaa-d5d3-cc27ea2e457a"
      },
      "execution_count": 2,
      "outputs": [
        {
          "output_type": "stream",
          "name": "stdout",
          "text": [
            "Running on colab\n",
            "Cloning into 'repo'...\n",
            "remote: Enumerating objects: 128, done.\u001b[K\n",
            "remote: Counting objects: 100% (128/128), done.\u001b[K\n",
            "remote: Compressing objects: 100% (75/75), done.\u001b[K\n",
            "remote: Total 128 (delta 62), reused 114 (delta 52), pack-reused 0\u001b[K\n",
            "Receiving objects: 100% (128/128), 12.03 MiB | 29.68 MiB/s, done.\n",
            "Resolving deltas: 100% (62/62), done.\n",
            "Mounted at /content/gdrive\n",
            "Added following path to system: repo/src\n"
          ]
        }
      ]
    },
    {
      "cell_type": "markdown",
      "metadata": {
        "id": "_r_QZTykaZ4B"
      },
      "source": [
        "# Preprocessing data"
      ]
    },
    {
      "cell_type": "code",
      "execution_count": 3,
      "metadata": {
        "id": "EMYjlfmfaZ4C"
      },
      "outputs": [],
      "source": [
        "from preprocessing import get_learning_weights, get_params_50mer, get_kmer_from_50mer\n",
        "from preprocessing import DataGenerator_from_50mer\n",
        "\n",
        "from architecture import build_model\n",
        "from utils import TrainingExperiment"
      ]
    },
    {
      "cell_type": "code",
      "execution_count": 4,
      "metadata": {
        "id": "jlfjVYq5aZ4D"
      },
      "outputs": [],
      "source": [
        "#path for the training file\n",
        "filepath_train= p2data /\"50mer_training\"\n",
        "assert filepath_train.is_file()\n",
        "#path for the validating file\n",
        "filepath_val= p2data / \"50mer_validating\"\n",
        "assert filepath_val.is_file()\n",
        "#path for the learning weights file\n",
        "filepath_weights=p2data / \"weight_of_classes\"\n",
        "assert filepath_weights.is_file()"
      ]
    },
    {
      "cell_type": "code",
      "execution_count": 5,
      "metadata": {
        "id": "lV_2uA1paZ4D"
      },
      "outputs": [],
      "source": [
        "d_nucl={\"A\":0,\"C\":1,\"G\":2,\"T\":3,\"N\":4}\n",
        "\n",
        "f_matrix,f_labels,f_pos=get_kmer_from_50mer(filepath_train, max_seqs=1_000_000)\n",
        "f_matrix_val,f_labels_val,f_pos_val=get_kmer_from_50mer(filepath_val)\n",
        "\n",
        "params = get_params_50mer()\n",
        "d_weights=get_learning_weights(filepath_weights)\n",
        "\n",
        "training_generator = DataGenerator_from_50mer(f_matrix, f_labels, f_pos, **params)\n",
        "val_generator = DataGenerator_from_50mer(f_matrix_val, f_labels_val, f_pos_val, **params)"
      ]
    },
    {
      "cell_type": "markdown",
      "metadata": {
        "id": "7rY_7bAIaZ4G"
      },
      "source": [
        "# Build model and review it"
      ]
    },
    {
      "cell_type": "code",
      "execution_count": 6,
      "metadata": {
        "id": "pfBTHSP8aZ4G",
        "outputId": "ab2d86de-cc81-42bd-f75d-fc56d2682599",
        "colab": {
          "base_uri": "https://localhost:8080/"
        }
      },
      "outputs": [
        {
          "output_type": "stream",
          "name": "stdout",
          "text": [
            "Creating Model\n",
            "Model: \"model\"\n",
            "__________________________________________________________________________________________________\n",
            " Layer (type)                   Output Shape         Param #     Connected to                     \n",
            "==================================================================================================\n",
            " input_1 (InputLayer)           [(None, 50, 5)]      0           []                               \n",
            "                                                                                                  \n",
            " conv1d (Conv1D)                (None, 50, 512)      13312       ['input_1[0][0]']                \n",
            "                                                                                                  \n",
            " batch_normalization (BatchNorm  (None, 50, 512)     2048        ['conv1d[0][0]']                 \n",
            " alization)                                                                                       \n",
            "                                                                                                  \n",
            " max_pooling1d (MaxPooling1D)   (None, 25, 512)      0           ['batch_normalization[0][0]']    \n",
            "                                                                                                  \n",
            " conv1d_1 (Conv1D)              (None, 25, 512)      1311232     ['max_pooling1d[0][0]']          \n",
            "                                                                                                  \n",
            " batch_normalization_1 (BatchNo  (None, 25, 512)     2048        ['conv1d_1[0][0]']               \n",
            " rmalization)                                                                                     \n",
            "                                                                                                  \n",
            " max_pooling1d_1 (MaxPooling1D)  (None, 13, 512)     0           ['batch_normalization_1[0][0]']  \n",
            "                                                                                                  \n",
            " conv1d_2 (Conv1D)              (None, 13, 1024)     3671040     ['max_pooling1d_1[0][0]']        \n",
            "                                                                                                  \n",
            " conv1d_3 (Conv1D)              (None, 13, 1024)     7341056     ['conv1d_2[0][0]']               \n",
            "                                                                                                  \n",
            " batch_normalization_2 (BatchNo  (None, 13, 1024)    4096        ['conv1d_3[0][0]']               \n",
            " rmalization)                                                                                     \n",
            "                                                                                                  \n",
            " max_pooling1d_2 (MaxPooling1D)  (None, 7, 1024)     0           ['batch_normalization_2[0][0]']  \n",
            "                                                                                                  \n",
            " flatten (Flatten)              (None, 7168)         0           ['max_pooling1d_2[0][0]']        \n",
            "                                                                                                  \n",
            " dense (Dense)                  (None, 1024)         7341056     ['flatten[0][0]']                \n",
            "                                                                                                  \n",
            " batch_normalization_3 (BatchNo  (None, 1024)        4096        ['dense[0][0]']                  \n",
            " rmalization)                                                                                     \n",
            "                                                                                                  \n",
            " dropout (Dropout)              (None, 1024)         0           ['batch_normalization_3[0][0]']  \n",
            "                                                                                                  \n",
            " output1 (Dense)                (None, 187)          191675      ['dropout[0][0]']                \n",
            "                                                                                                  \n",
            " concatenate (Concatenate)      (None, 1211)         0           ['dropout[0][0]',                \n",
            "                                                                  'output1[0][0]']                \n",
            "                                                                                                  \n",
            " dense_1 (Dense)                (None, 1024)         1241088     ['concatenate[0][0]']            \n",
            "                                                                                                  \n",
            " batch_normalization_4 (BatchNo  (None, 1024)        4096        ['dense_1[0][0]']                \n",
            " rmalization)                                                                                     \n",
            "                                                                                                  \n",
            " output2 (Dense)                (None, 10)           10250       ['batch_normalization_4[0][0]']  \n",
            "                                                                                                  \n",
            "==================================================================================================\n",
            "Total params: 21,137,093\n",
            "Trainable params: 21,128,901\n",
            "Non-trainable params: 8,192\n",
            "__________________________________________________________________________________________________\n"
          ]
        }
      ],
      "source": [
        "model=build_model()\n",
        "model.summary()"
      ]
    },
    {
      "cell_type": "code",
      "source": [],
      "metadata": {
        "id": "fOKMBW7a7FpZ"
      },
      "execution_count": null,
      "outputs": []
    },
    {
      "cell_type": "markdown",
      "source": [
        "# Run Experiments"
      ],
      "metadata": {
        "id": "HwnvXXmQ7mci"
      }
    },
    {
      "cell_type": "code",
      "source": [
        "exp = TrainingExperiment(\n",
        "    name='EC_1_1Mseq', \n",
        "    train_ds=training_generator, \n",
        "    val_ds=val_generator,\n",
        "    p2drive=p2drive\n",
        ")"
      ],
      "metadata": {
        "colab": {
          "base_uri": "https://localhost:8080/"
        },
        "id": "8fE9HsN1kdDv",
        "outputId": "c757ec7e-7dda-4514-8822-1e83bb82e416"
      },
      "execution_count": 10,
      "outputs": [
        {
          "output_type": "stream",
          "name": "stdout",
          "text": [
            "Experiment Description updated in /content/gdrive/MyDrive/Metagenonics/saved/cnn_virus/EC_1_1Mseq-220831-1730-UTC--description.txt\n",
            "Experiment EC_1_1Mseq ready.\n",
            "Models will be saved in /content/gdrive/MyDrive/Metagenonics/saved/cnn_virus\n"
          ]
        }
      ]
    },
    {
      "cell_type": "code",
      "source": [
        "exp.run_epochs(lr=1e-4, epochs=10, patience=5)"
      ],
      "metadata": {
        "colab": {
          "base_uri": "https://localhost:8080/",
          "height": 186,
          "referenced_widgets": [
            "f2e72483ffed43429ab447fcfde07402",
            "9c76dd8cf4be44049cabea520dc6bbbb",
            "0826c74d937848beba64f1cf282b7fe5",
            "7a6356a83b3c46ab96925ac44f0c5623",
            "b4fcade3925448ec846a6801a7e21920",
            "d1016e40849e4a278c88cc0cf8064c6d",
            "3571506613ed4d699a91d714ff579e2f",
            "64a6750089ce47caa23e5f4130d144cd",
            "2b21b479bb5146eeb29422e83b910339",
            "43526ca31aa04f59b7fb273e59b44b6e",
            "9d6985e6a3814107b56113ff49b10bc2",
            "0e19e210c8bb41f2a068d24c183a65e4",
            "11389a9fe13b4600b80422bfcdf9cd2f",
            "34a36589a49e427f88d13419d39be970",
            "44c827ff3da34e9ebaeece0d69074459",
            "3dca624b9d3148508eee6917947b1624",
            "4fafebc154f54392b359e419d4271daa",
            "1084c7add3884adcb5a55a82ed957f2d",
            "24f1221fb8684d1ea65d7f5c7db05712",
            "b6080904ae8242409bee3c6dac70718c",
            "cfd94b9551064a559e7e67edfec592a5",
            "ccb2016a4f4c4719b842652bbe4fc781"
          ]
        },
        "id": "4Qlgd_t79Ofz",
        "outputId": "015b8b0d-5334-40c4-d2b2-652d1033cadf"
      },
      "execution_count": 12,
      "outputs": [
        {
          "output_type": "display_data",
          "data": {
            "text/plain": [
              "0epoch [00:00, ?epoch/s]"
            ],
            "application/vnd.jupyter.widget-view+json": {
              "version_major": 2,
              "version_minor": 0,
              "model_id": "f2e72483ffed43429ab447fcfde07402"
            }
          },
          "metadata": {}
        },
        {
          "output_type": "display_data",
          "data": {
            "text/plain": [
              "0batch [00:00, ?batch/s]"
            ],
            "application/vnd.jupyter.widget-view+json": {
              "version_major": 2,
              "version_minor": 0,
              "model_id": "0e19e210c8bb41f2a068d24c183a65e4"
            }
          },
          "metadata": {}
        },
        {
          "output_type": "stream",
          "name": "stderr",
          "text": [
            "WARNING:tensorflow:Callback method `on_train_batch_end` is slow compared to the batch time (batch time: 0.1004s vs `on_train_batch_end` time: 0.2310s). Check your callbacks.\n"
          ]
        },
        {
          "output_type": "stream",
          "name": "stdout",
          "text": [
            "Experiment Description updated in /content/gdrive/MyDrive/Metagenonics/saved/cnn_virus/EC_1_1Mseq-220831-1730-UTC--description.txt\n",
            "Experiment Description updated in /content/gdrive/MyDrive/Metagenonics/saved/cnn_virus/EC_1_1Mseq-220831-1730-UTC--description.txt\n",
            "Saved model and losses in /content/gdrive/MyDrive/Metagenonics/saved/cnn_virus as \n",
            " - EC_1_1Mseq--220831-1747-UTC-model-002\n",
            " - EC_1_1Mseq--220831-1747-UTC-losses-002.json\n"
          ]
        }
      ]
    }
  ],
  "metadata": {
    "kernelspec": {
      "display_name": "Python 3.9.12 ('metagen')",
      "language": "python",
      "name": "python3"
    },
    "language_info": {
      "codemirror_mode": {
        "name": "ipython",
        "version": 3
      },
      "file_extension": ".py",
      "mimetype": "text/x-python",
      "name": "python",
      "nbconvert_exporter": "python",
      "pygments_lexer": "ipython3",
      "version": "3.9.12"
    },
    "orig_nbformat": 4,
    "vscode": {
      "interpreter": {
        "hash": "dfd3b4934a6b4e35dd599b40cbe0afdec143404ac9fcb14c4b97cc2a93514568"
      }
    },
    "colab": {
      "name": "2.02_EC_train_cnn_virus-colab.ipynb",
      "provenance": [],
      "collapsed_sections": [],
      "include_colab_link": true
    },
    "accelerator": "GPU",
    "gpuClass": "standard",
    "widgets": {
      "application/vnd.jupyter.widget-state+json": {
        "f2e72483ffed43429ab447fcfde07402": {
          "model_module": "@jupyter-widgets/controls",
          "model_name": "HBoxModel",
          "model_module_version": "1.5.0",
          "state": {
            "_dom_classes": [],
            "_model_module": "@jupyter-widgets/controls",
            "_model_module_version": "1.5.0",
            "_model_name": "HBoxModel",
            "_view_count": null,
            "_view_module": "@jupyter-widgets/controls",
            "_view_module_version": "1.5.0",
            "_view_name": "HBoxView",
            "box_style": "",
            "children": [
              "IPY_MODEL_9c76dd8cf4be44049cabea520dc6bbbb",
              "IPY_MODEL_0826c74d937848beba64f1cf282b7fe5",
              "IPY_MODEL_7a6356a83b3c46ab96925ac44f0c5623"
            ],
            "layout": "IPY_MODEL_b4fcade3925448ec846a6801a7e21920"
          }
        },
        "9c76dd8cf4be44049cabea520dc6bbbb": {
          "model_module": "@jupyter-widgets/controls",
          "model_name": "HTMLModel",
          "model_module_version": "1.5.0",
          "state": {
            "_dom_classes": [],
            "_model_module": "@jupyter-widgets/controls",
            "_model_module_version": "1.5.0",
            "_model_name": "HTMLModel",
            "_view_count": null,
            "_view_module": "@jupyter-widgets/controls",
            "_view_module_version": "1.5.0",
            "_view_name": "HTMLView",
            "description": "",
            "description_tooltip": null,
            "layout": "IPY_MODEL_d1016e40849e4a278c88cc0cf8064c6d",
            "placeholder": "​",
            "style": "IPY_MODEL_3571506613ed4d699a91d714ff579e2f",
            "value": " 70%"
          }
        },
        "0826c74d937848beba64f1cf282b7fe5": {
          "model_module": "@jupyter-widgets/controls",
          "model_name": "FloatProgressModel",
          "model_module_version": "1.5.0",
          "state": {
            "_dom_classes": [],
            "_model_module": "@jupyter-widgets/controls",
            "_model_module_version": "1.5.0",
            "_model_name": "FloatProgressModel",
            "_view_count": null,
            "_view_module": "@jupyter-widgets/controls",
            "_view_module_version": "1.5.0",
            "_view_name": "ProgressView",
            "bar_style": "danger",
            "description": "",
            "description_tooltip": null,
            "layout": "IPY_MODEL_64a6750089ce47caa23e5f4130d144cd",
            "max": 10,
            "min": 0,
            "orientation": "horizontal",
            "style": "IPY_MODEL_2b21b479bb5146eeb29422e83b910339",
            "value": 7
          }
        },
        "7a6356a83b3c46ab96925ac44f0c5623": {
          "model_module": "@jupyter-widgets/controls",
          "model_name": "HTMLModel",
          "model_module_version": "1.5.0",
          "state": {
            "_dom_classes": [],
            "_model_module": "@jupyter-widgets/controls",
            "_model_module_version": "1.5.0",
            "_model_name": "HTMLModel",
            "_view_count": null,
            "_view_module": "@jupyter-widgets/controls",
            "_view_module_version": "1.5.0",
            "_view_name": "HTMLView",
            "description": "",
            "description_tooltip": null,
            "layout": "IPY_MODEL_43526ca31aa04f59b7fb273e59b44b6e",
            "placeholder": "​",
            "style": "IPY_MODEL_9d6985e6a3814107b56113ff49b10bc2",
            "value": " 7/10 [50:36&lt;22:06, 442.20s/epoch, loss=2.55, output1_loss=0.91, output2_loss=1.64, output1_accuracy=0.74, output2_accuracy=0.433, val_loss=6.5, val_output1_loss=4.22, val_output2_loss=2.28, val_output1_accuracy=0.243, val_output2_accuracy=0.243]"
          }
        },
        "b4fcade3925448ec846a6801a7e21920": {
          "model_module": "@jupyter-widgets/base",
          "model_name": "LayoutModel",
          "model_module_version": "1.2.0",
          "state": {
            "_model_module": "@jupyter-widgets/base",
            "_model_module_version": "1.2.0",
            "_model_name": "LayoutModel",
            "_view_count": null,
            "_view_module": "@jupyter-widgets/base",
            "_view_module_version": "1.2.0",
            "_view_name": "LayoutView",
            "align_content": null,
            "align_items": null,
            "align_self": null,
            "border": null,
            "bottom": null,
            "display": null,
            "flex": null,
            "flex_flow": null,
            "grid_area": null,
            "grid_auto_columns": null,
            "grid_auto_flow": null,
            "grid_auto_rows": null,
            "grid_column": null,
            "grid_gap": null,
            "grid_row": null,
            "grid_template_areas": null,
            "grid_template_columns": null,
            "grid_template_rows": null,
            "height": null,
            "justify_content": null,
            "justify_items": null,
            "left": null,
            "margin": null,
            "max_height": null,
            "max_width": null,
            "min_height": null,
            "min_width": null,
            "object_fit": null,
            "object_position": null,
            "order": null,
            "overflow": null,
            "overflow_x": null,
            "overflow_y": null,
            "padding": null,
            "right": null,
            "top": null,
            "visibility": null,
            "width": null
          }
        },
        "d1016e40849e4a278c88cc0cf8064c6d": {
          "model_module": "@jupyter-widgets/base",
          "model_name": "LayoutModel",
          "model_module_version": "1.2.0",
          "state": {
            "_model_module": "@jupyter-widgets/base",
            "_model_module_version": "1.2.0",
            "_model_name": "LayoutModel",
            "_view_count": null,
            "_view_module": "@jupyter-widgets/base",
            "_view_module_version": "1.2.0",
            "_view_name": "LayoutView",
            "align_content": null,
            "align_items": null,
            "align_self": null,
            "border": null,
            "bottom": null,
            "display": null,
            "flex": null,
            "flex_flow": null,
            "grid_area": null,
            "grid_auto_columns": null,
            "grid_auto_flow": null,
            "grid_auto_rows": null,
            "grid_column": null,
            "grid_gap": null,
            "grid_row": null,
            "grid_template_areas": null,
            "grid_template_columns": null,
            "grid_template_rows": null,
            "height": null,
            "justify_content": null,
            "justify_items": null,
            "left": null,
            "margin": null,
            "max_height": null,
            "max_width": null,
            "min_height": null,
            "min_width": null,
            "object_fit": null,
            "object_position": null,
            "order": null,
            "overflow": null,
            "overflow_x": null,
            "overflow_y": null,
            "padding": null,
            "right": null,
            "top": null,
            "visibility": null,
            "width": null
          }
        },
        "3571506613ed4d699a91d714ff579e2f": {
          "model_module": "@jupyter-widgets/controls",
          "model_name": "DescriptionStyleModel",
          "model_module_version": "1.5.0",
          "state": {
            "_model_module": "@jupyter-widgets/controls",
            "_model_module_version": "1.5.0",
            "_model_name": "DescriptionStyleModel",
            "_view_count": null,
            "_view_module": "@jupyter-widgets/base",
            "_view_module_version": "1.2.0",
            "_view_name": "StyleView",
            "description_width": ""
          }
        },
        "64a6750089ce47caa23e5f4130d144cd": {
          "model_module": "@jupyter-widgets/base",
          "model_name": "LayoutModel",
          "model_module_version": "1.2.0",
          "state": {
            "_model_module": "@jupyter-widgets/base",
            "_model_module_version": "1.2.0",
            "_model_name": "LayoutModel",
            "_view_count": null,
            "_view_module": "@jupyter-widgets/base",
            "_view_module_version": "1.2.0",
            "_view_name": "LayoutView",
            "align_content": null,
            "align_items": null,
            "align_self": null,
            "border": null,
            "bottom": null,
            "display": null,
            "flex": null,
            "flex_flow": null,
            "grid_area": null,
            "grid_auto_columns": null,
            "grid_auto_flow": null,
            "grid_auto_rows": null,
            "grid_column": null,
            "grid_gap": null,
            "grid_row": null,
            "grid_template_areas": null,
            "grid_template_columns": null,
            "grid_template_rows": null,
            "height": null,
            "justify_content": null,
            "justify_items": null,
            "left": null,
            "margin": null,
            "max_height": null,
            "max_width": null,
            "min_height": null,
            "min_width": null,
            "object_fit": null,
            "object_position": null,
            "order": null,
            "overflow": null,
            "overflow_x": null,
            "overflow_y": null,
            "padding": null,
            "right": null,
            "top": null,
            "visibility": null,
            "width": null
          }
        },
        "2b21b479bb5146eeb29422e83b910339": {
          "model_module": "@jupyter-widgets/controls",
          "model_name": "ProgressStyleModel",
          "model_module_version": "1.5.0",
          "state": {
            "_model_module": "@jupyter-widgets/controls",
            "_model_module_version": "1.5.0",
            "_model_name": "ProgressStyleModel",
            "_view_count": null,
            "_view_module": "@jupyter-widgets/base",
            "_view_module_version": "1.2.0",
            "_view_name": "StyleView",
            "bar_color": null,
            "description_width": ""
          }
        },
        "43526ca31aa04f59b7fb273e59b44b6e": {
          "model_module": "@jupyter-widgets/base",
          "model_name": "LayoutModel",
          "model_module_version": "1.2.0",
          "state": {
            "_model_module": "@jupyter-widgets/base",
            "_model_module_version": "1.2.0",
            "_model_name": "LayoutModel",
            "_view_count": null,
            "_view_module": "@jupyter-widgets/base",
            "_view_module_version": "1.2.0",
            "_view_name": "LayoutView",
            "align_content": null,
            "align_items": null,
            "align_self": null,
            "border": null,
            "bottom": null,
            "display": null,
            "flex": null,
            "flex_flow": null,
            "grid_area": null,
            "grid_auto_columns": null,
            "grid_auto_flow": null,
            "grid_auto_rows": null,
            "grid_column": null,
            "grid_gap": null,
            "grid_row": null,
            "grid_template_areas": null,
            "grid_template_columns": null,
            "grid_template_rows": null,
            "height": null,
            "justify_content": null,
            "justify_items": null,
            "left": null,
            "margin": null,
            "max_height": null,
            "max_width": null,
            "min_height": null,
            "min_width": null,
            "object_fit": null,
            "object_position": null,
            "order": null,
            "overflow": null,
            "overflow_x": null,
            "overflow_y": null,
            "padding": null,
            "right": null,
            "top": null,
            "visibility": null,
            "width": null
          }
        },
        "9d6985e6a3814107b56113ff49b10bc2": {
          "model_module": "@jupyter-widgets/controls",
          "model_name": "DescriptionStyleModel",
          "model_module_version": "1.5.0",
          "state": {
            "_model_module": "@jupyter-widgets/controls",
            "_model_module_version": "1.5.0",
            "_model_name": "DescriptionStyleModel",
            "_view_count": null,
            "_view_module": "@jupyter-widgets/base",
            "_view_module_version": "1.2.0",
            "_view_name": "StyleView",
            "description_width": ""
          }
        },
        "0e19e210c8bb41f2a068d24c183a65e4": {
          "model_module": "@jupyter-widgets/controls",
          "model_name": "HBoxModel",
          "model_module_version": "1.5.0",
          "state": {
            "_dom_classes": [],
            "_model_module": "@jupyter-widgets/controls",
            "_model_module_version": "1.5.0",
            "_model_name": "HBoxModel",
            "_view_count": null,
            "_view_module": "@jupyter-widgets/controls",
            "_view_module_version": "1.5.0",
            "_view_name": "HBoxView",
            "box_style": "",
            "children": [
              "IPY_MODEL_11389a9fe13b4600b80422bfcdf9cd2f",
              "IPY_MODEL_34a36589a49e427f88d13419d39be970",
              "IPY_MODEL_44c827ff3da34e9ebaeece0d69074459"
            ],
            "layout": "IPY_MODEL_3dca624b9d3148508eee6917947b1624"
          }
        },
        "11389a9fe13b4600b80422bfcdf9cd2f": {
          "model_module": "@jupyter-widgets/controls",
          "model_name": "HTMLModel",
          "model_module_version": "1.5.0",
          "state": {
            "_dom_classes": [],
            "_model_module": "@jupyter-widgets/controls",
            "_model_module_version": "1.5.0",
            "_model_name": "HTMLModel",
            "_view_count": null,
            "_view_module": "@jupyter-widgets/controls",
            "_view_module_version": "1.5.0",
            "_view_name": "HTMLView",
            "description": "",
            "description_tooltip": null,
            "layout": "IPY_MODEL_4fafebc154f54392b359e419d4271daa",
            "placeholder": "​",
            "style": "IPY_MODEL_1084c7add3884adcb5a55a82ed957f2d",
            "value": "100%"
          }
        },
        "34a36589a49e427f88d13419d39be970": {
          "model_module": "@jupyter-widgets/controls",
          "model_name": "FloatProgressModel",
          "model_module_version": "1.5.0",
          "state": {
            "_dom_classes": [],
            "_model_module": "@jupyter-widgets/controls",
            "_model_module_version": "1.5.0",
            "_model_name": "FloatProgressModel",
            "_view_count": null,
            "_view_module": "@jupyter-widgets/controls",
            "_view_module_version": "1.5.0",
            "_view_name": "ProgressView",
            "bar_style": "",
            "description": "",
            "description_tooltip": null,
            "layout": "IPY_MODEL_24f1221fb8684d1ea65d7f5c7db05712",
            "max": 977,
            "min": 0,
            "orientation": "horizontal",
            "style": "IPY_MODEL_b6080904ae8242409bee3c6dac70718c",
            "value": 977
          }
        },
        "44c827ff3da34e9ebaeece0d69074459": {
          "model_module": "@jupyter-widgets/controls",
          "model_name": "HTMLModel",
          "model_module_version": "1.5.0",
          "state": {
            "_dom_classes": [],
            "_model_module": "@jupyter-widgets/controls",
            "_model_module_version": "1.5.0",
            "_model_name": "HTMLModel",
            "_view_count": null,
            "_view_module": "@jupyter-widgets/controls",
            "_view_module_version": "1.5.0",
            "_view_name": "HTMLView",
            "description": "",
            "description_tooltip": null,
            "layout": "IPY_MODEL_cfd94b9551064a559e7e67edfec592a5",
            "placeholder": "​",
            "style": "IPY_MODEL_ccb2016a4f4c4719b842652bbe4fc781",
            "value": " 977/977 [05:30&lt;00:00, 2.97batch/s, loss=2.55, output1_loss=0.91, output2_loss=1.64, output1_accuracy=0.74, output2_accuracy=0.433]"
          }
        },
        "3dca624b9d3148508eee6917947b1624": {
          "model_module": "@jupyter-widgets/base",
          "model_name": "LayoutModel",
          "model_module_version": "1.2.0",
          "state": {
            "_model_module": "@jupyter-widgets/base",
            "_model_module_version": "1.2.0",
            "_model_name": "LayoutModel",
            "_view_count": null,
            "_view_module": "@jupyter-widgets/base",
            "_view_module_version": "1.2.0",
            "_view_name": "LayoutView",
            "align_content": null,
            "align_items": null,
            "align_self": null,
            "border": null,
            "bottom": null,
            "display": null,
            "flex": null,
            "flex_flow": null,
            "grid_area": null,
            "grid_auto_columns": null,
            "grid_auto_flow": null,
            "grid_auto_rows": null,
            "grid_column": null,
            "grid_gap": null,
            "grid_row": null,
            "grid_template_areas": null,
            "grid_template_columns": null,
            "grid_template_rows": null,
            "height": null,
            "justify_content": null,
            "justify_items": null,
            "left": null,
            "margin": null,
            "max_height": null,
            "max_width": null,
            "min_height": null,
            "min_width": null,
            "object_fit": null,
            "object_position": null,
            "order": null,
            "overflow": null,
            "overflow_x": null,
            "overflow_y": null,
            "padding": null,
            "right": null,
            "top": null,
            "visibility": null,
            "width": null
          }
        },
        "4fafebc154f54392b359e419d4271daa": {
          "model_module": "@jupyter-widgets/base",
          "model_name": "LayoutModel",
          "model_module_version": "1.2.0",
          "state": {
            "_model_module": "@jupyter-widgets/base",
            "_model_module_version": "1.2.0",
            "_model_name": "LayoutModel",
            "_view_count": null,
            "_view_module": "@jupyter-widgets/base",
            "_view_module_version": "1.2.0",
            "_view_name": "LayoutView",
            "align_content": null,
            "align_items": null,
            "align_self": null,
            "border": null,
            "bottom": null,
            "display": null,
            "flex": null,
            "flex_flow": null,
            "grid_area": null,
            "grid_auto_columns": null,
            "grid_auto_flow": null,
            "grid_auto_rows": null,
            "grid_column": null,
            "grid_gap": null,
            "grid_row": null,
            "grid_template_areas": null,
            "grid_template_columns": null,
            "grid_template_rows": null,
            "height": null,
            "justify_content": null,
            "justify_items": null,
            "left": null,
            "margin": null,
            "max_height": null,
            "max_width": null,
            "min_height": null,
            "min_width": null,
            "object_fit": null,
            "object_position": null,
            "order": null,
            "overflow": null,
            "overflow_x": null,
            "overflow_y": null,
            "padding": null,
            "right": null,
            "top": null,
            "visibility": null,
            "width": null
          }
        },
        "1084c7add3884adcb5a55a82ed957f2d": {
          "model_module": "@jupyter-widgets/controls",
          "model_name": "DescriptionStyleModel",
          "model_module_version": "1.5.0",
          "state": {
            "_model_module": "@jupyter-widgets/controls",
            "_model_module_version": "1.5.0",
            "_model_name": "DescriptionStyleModel",
            "_view_count": null,
            "_view_module": "@jupyter-widgets/base",
            "_view_module_version": "1.2.0",
            "_view_name": "StyleView",
            "description_width": ""
          }
        },
        "24f1221fb8684d1ea65d7f5c7db05712": {
          "model_module": "@jupyter-widgets/base",
          "model_name": "LayoutModel",
          "model_module_version": "1.2.0",
          "state": {
            "_model_module": "@jupyter-widgets/base",
            "_model_module_version": "1.2.0",
            "_model_name": "LayoutModel",
            "_view_count": null,
            "_view_module": "@jupyter-widgets/base",
            "_view_module_version": "1.2.0",
            "_view_name": "LayoutView",
            "align_content": null,
            "align_items": null,
            "align_self": null,
            "border": null,
            "bottom": null,
            "display": null,
            "flex": null,
            "flex_flow": null,
            "grid_area": null,
            "grid_auto_columns": null,
            "grid_auto_flow": null,
            "grid_auto_rows": null,
            "grid_column": null,
            "grid_gap": null,
            "grid_row": null,
            "grid_template_areas": null,
            "grid_template_columns": null,
            "grid_template_rows": null,
            "height": null,
            "justify_content": null,
            "justify_items": null,
            "left": null,
            "margin": null,
            "max_height": null,
            "max_width": null,
            "min_height": null,
            "min_width": null,
            "object_fit": null,
            "object_position": null,
            "order": null,
            "overflow": null,
            "overflow_x": null,
            "overflow_y": null,
            "padding": null,
            "right": null,
            "top": null,
            "visibility": null,
            "width": null
          }
        },
        "b6080904ae8242409bee3c6dac70718c": {
          "model_module": "@jupyter-widgets/controls",
          "model_name": "ProgressStyleModel",
          "model_module_version": "1.5.0",
          "state": {
            "_model_module": "@jupyter-widgets/controls",
            "_model_module_version": "1.5.0",
            "_model_name": "ProgressStyleModel",
            "_view_count": null,
            "_view_module": "@jupyter-widgets/base",
            "_view_module_version": "1.2.0",
            "_view_name": "StyleView",
            "bar_color": null,
            "description_width": ""
          }
        },
        "cfd94b9551064a559e7e67edfec592a5": {
          "model_module": "@jupyter-widgets/base",
          "model_name": "LayoutModel",
          "model_module_version": "1.2.0",
          "state": {
            "_model_module": "@jupyter-widgets/base",
            "_model_module_version": "1.2.0",
            "_model_name": "LayoutModel",
            "_view_count": null,
            "_view_module": "@jupyter-widgets/base",
            "_view_module_version": "1.2.0",
            "_view_name": "LayoutView",
            "align_content": null,
            "align_items": null,
            "align_self": null,
            "border": null,
            "bottom": null,
            "display": null,
            "flex": null,
            "flex_flow": null,
            "grid_area": null,
            "grid_auto_columns": null,
            "grid_auto_flow": null,
            "grid_auto_rows": null,
            "grid_column": null,
            "grid_gap": null,
            "grid_row": null,
            "grid_template_areas": null,
            "grid_template_columns": null,
            "grid_template_rows": null,
            "height": null,
            "justify_content": null,
            "justify_items": null,
            "left": null,
            "margin": null,
            "max_height": null,
            "max_width": null,
            "min_height": null,
            "min_width": null,
            "object_fit": null,
            "object_position": null,
            "order": null,
            "overflow": null,
            "overflow_x": null,
            "overflow_y": null,
            "padding": null,
            "right": null,
            "top": null,
            "visibility": null,
            "width": null
          }
        },
        "ccb2016a4f4c4719b842652bbe4fc781": {
          "model_module": "@jupyter-widgets/controls",
          "model_name": "DescriptionStyleModel",
          "model_module_version": "1.5.0",
          "state": {
            "_model_module": "@jupyter-widgets/controls",
            "_model_module_version": "1.5.0",
            "_model_name": "DescriptionStyleModel",
            "_view_count": null,
            "_view_module": "@jupyter-widgets/base",
            "_view_module_version": "1.2.0",
            "_view_name": "StyleView",
            "description_width": ""
          }
        }
      }
    }
  },
  "nbformat": 4,
  "nbformat_minor": 0
}